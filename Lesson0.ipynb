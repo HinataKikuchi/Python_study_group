{
  "nbformat": 4,
  "nbformat_minor": 0,
  "metadata": {
    "colab": {
      "name": "Lesson0.ipynb",
      "provenance": [],
      "collapsed_sections": [],
      "authorship_tag": "ABX9TyOfltclOdKu51AM6I44ALsO",
      "include_colab_link": true
    },
    "kernelspec": {
      "name": "python3",
      "display_name": "Python 3"
    },
    "language_info": {
      "name": "python"
    }
  },
  "cells": [
    {
      "cell_type": "markdown",
      "metadata": {
        "id": "view-in-github",
        "colab_type": "text"
      },
      "source": [
        "<a href=\"https://colab.research.google.com/github/HinataKikuchi/Python_study_group/blob/main/Lesson0.ipynb\" target=\"_parent\"><img src=\"https://colab.research.google.com/assets/colab-badge.svg\" alt=\"Open In Colab\"/></a>"
      ]
    },
    {
      "cell_type": "markdown",
      "metadata": {
        "id": "7ADR7GSg0IBp"
      },
      "source": [
        "# 自己紹介\n",
        "- 名前 : 菊地ひなた\n",
        "\n",
        "- 所属 : 宇都宮大学　工学部　情報工学科　4年　篠田研究室所属\n",
        "\n",
        "- 趣味 : ゲーム、読書、食べること\n",
        "\n",
        "- ひとこと : もしスピードが速かったり、わからないことがあったら何でも聞いてください。"
      ]
    },
    {
      "cell_type": "code",
      "metadata": {
        "id": "-KNZQ_Ry1CbO"
      },
      "source": [
        "print(\"Hellow World!\")"
      ],
      "execution_count": null,
      "outputs": []
    },
    {
      "cell_type": "markdown",
      "metadata": {
        "id": "BYVCmSrf1Twy"
      },
      "source": [
        "# 本日のお品書き\n",
        "\n",
        "1. [Pythonとは](#Pythonとは)\n",
        "2. [かんたんに触ってみる](#かんたんに触ってみる)\n",
        "3. [演習](#演習)\n",
        "4. [実践](#実践)\n",
        "5. まとめ\n",
        "\n",
        "所要時間 : 30~40分目標\n"
      ]
    },
    {
      "cell_type": "markdown",
      "metadata": {
        "id": "jQ2IhuI04FKo"
      },
      "source": [
        "# 1. Pythonとは\n",
        "アプリ開発から数値計算まで何でもできちゃうすぐれもの！\n",
        "\n",
        "Google Colaboratoryで無料で開発可能。\n",
        "\n",
        "必要なのはgoogle アカウントとPCだけ！\n",
        "\n",
        "早速試しにやってみましょう"
      ]
    },
    {
      "cell_type": "code",
      "metadata": {
        "id": "mD1T58P25MuR"
      },
      "source": [
        "# 標準出力(文字を出力する)\n",
        "print(\"こんにちは！\")"
      ],
      "execution_count": null,
      "outputs": []
    },
    {
      "cell_type": "code",
      "metadata": {
        "id": "K7hWejs56DcP"
      },
      "source": [
        "# 演算\n",
        "1 + 2"
      ],
      "execution_count": null,
      "outputs": []
    },
    {
      "cell_type": "code",
      "metadata": {
        "id": "bJegrN_m6HgD"
      },
      "source": [
        "# 演算を複数列でやってみる\n",
        "1 + 3 + 5\n",
        "1 + 2"
      ],
      "execution_count": null,
      "outputs": []
    },
    {
      "cell_type": "code",
      "metadata": {
        "id": "s_uFgg_C6Nhk"
      },
      "source": [
        "# 全部出力したいとき\n",
        "print(1 + 3 + 5)\n",
        "print(1 + 2)"
      ],
      "execution_count": null,
      "outputs": []
    },
    {
      "cell_type": "markdown",
      "metadata": {
        "id": "Ue2XFPBs8uVa"
      },
      "source": [
        "# 2. かんたんに触ってみる\n",
        "\n",
        "Google Driveの中身を見て、触ることもできる！"
      ]
    },
    {
      "cell_type": "code",
      "metadata": {
        "id": "onCxrumF84rs"
      },
      "source": [
        "# おまじないチックだけど、自分のドライブの中身を見る方法\n",
        "from google.colab import drive\n",
        "drive.mount('/content/drive')"
      ],
      "execution_count": null,
      "outputs": []
    },
    {
      "cell_type": "code",
      "metadata": {
        "id": "BClC62ZK91nS"
      },
      "source": [
        "# 実際に見てみる。\n",
        "%ls drive/MyDrive/"
      ],
      "execution_count": null,
      "outputs": []
    },
    {
      "cell_type": "markdown",
      "metadata": {
        "id": "NRgoL-Uj4hti"
      },
      "source": [
        "~実は左側のフォルダアイコンから見ることもできます~\n",
        "\n",
        "~ただしこの場合もdrive のマウント(=さっきの呪文)は必須です。セキュリティのため~"
      ]
    },
    {
      "cell_type": "markdown",
      "metadata": {
        "id": "pXhKje969-qC"
      },
      "source": [
        "## シェルコマンドについて\n",
        "\n",
        "Q. シェルコマンドとは？\n",
        "\n",
        "A. コマンドラインと呼ばれる場所に文字として入力するだけでPCに命令する方法！\n",
        "\n",
        "Colaboratoryは%を付けて入力することでセルをコマンドラインにすることができる！"
      ]
    },
    {
      "cell_type": "code",
      "metadata": {
        "id": "0U3MpoGxFG2r"
      },
      "source": [
        "# 今いる場所に何があるか表示する(list segmentsの略)\n",
        "%ls"
      ],
      "execution_count": null,
      "outputs": []
    },
    {
      "cell_type": "code",
      "metadata": {
        "id": "_1W0jX3x95yz"
      },
      "source": [
        "# ディレクトリを移動する\n",
        "%cd drive/MyDrive"
      ],
      "execution_count": null,
      "outputs": []
    },
    {
      "cell_type": "code",
      "metadata": {
        "id": "XxPg7_PZFK4B"
      },
      "source": [
        "# 今いる場所がどこか表示する\n",
        "%pwd"
      ],
      "execution_count": null,
      "outputs": []
    },
    {
      "cell_type": "code",
      "metadata": {
        "id": "hGm6pnvWGrFY"
      },
      "source": [
        "# 試しになにがあるか表示してみよう！\n"
      ],
      "execution_count": null,
      "outputs": []
    },
    {
      "cell_type": "markdown",
      "metadata": {
        "id": "7wN6PDPpHrTG"
      },
      "source": [
        "# 3. 演習\n",
        "ここまでのおさらいをします！\n",
        "\n",
        "やった内容を見ながら出構いません、以下の問いの下にコードを書いてください！"
      ]
    },
    {
      "cell_type": "code",
      "metadata": {
        "id": "A_xS47pFHzmx"
      },
      "source": [
        "# Q. こんにちはと出力してください\n",
        "# A. 以下に記述\n"
      ],
      "execution_count": null,
      "outputs": []
    },
    {
      "cell_type": "code",
      "metadata": {
        "id": "R9m5s98aH3Ox"
      },
      "source": [
        "# Q. MyDriveディレクトリの中を見せてください\n",
        "# A. 以下に記述"
      ],
      "execution_count": null,
      "outputs": []
    },
    {
      "cell_type": "code",
      "metadata": {
        "id": "b4srfn28wpww"
      },
      "source": [
        "# Q. MyDriveディレクトリ以下どこでも構いません、移動してみてください。\n",
        "# A. 以下に記述"
      ],
      "execution_count": null,
      "outputs": []
    },
    {
      "cell_type": "markdown",
      "metadata": {
        "id": "IgoX3EOa4_sh"
      },
      "source": [
        "# 4. 実践\n",
        "\n",
        "試しに同じ階層のファイルを読むというのを試します。\n",
        "\n",
        "まずお渡ししたフォルダの中で```target.txt```というのを探してみてください"
      ]
    },
    {
      "cell_type": "code",
      "metadata": {
        "id": "YLzodLq46KHf"
      },
      "source": [
        "%ls drive/MyDrive/circle/python_study_group/target.txt"
      ],
      "execution_count": null,
      "outputs": []
    },
    {
      "cell_type": "markdown",
      "metadata": {
        "id": "HRIahgDZ6spS"
      },
      "source": [
        "見つけることができたら、下のopenの中のカッコにそのパス(drive/から/targe.txtまでの文字列)を書き込んでください"
      ]
    },
    {
      "cell_type": "code",
      "metadata": {
        "id": "Hlo1t_Qa5IG5"
      },
      "source": [
        "# with openでファイルを開く(開き終わったらwith処理が閉じてくれる)\n",
        "# 開かれたファイル名をいったんfとする\n",
        "with open('drive/... /target.txt') as f:\n",
        "\n",
        "  # fの中身をreadで読み出す。\n",
        "  # 読んだ内容をtextという名前の変数に保存\n",
        "  text = f.read()\n",
        "\n",
        "# 保存されたものを表示\n",
        "print(text)"
      ],
      "execution_count": null,
      "outputs": []
    },
    {
      "cell_type": "markdown",
      "metadata": {
        "id": "RxFgyJic67Hr"
      },
      "source": [
        "プログラムの中からもファイルの中身が確認できることが分かりました\n",
        "\n",
        "試しにwordファイルを開いてみたいと思います\n",
        "\n",
        "wordファイルの拡張子(.以降の文字)は```.docx```です"
      ]
    },
    {
      "cell_type": "code",
      "metadata": {
        "id": "3ylHZHwm6-Kx"
      },
      "source": [
        "# 自分のディレクトリでdocxファイルを探してみてください\n",
        "%ls drive/MyDrive/circle/python_study_group/"
      ],
      "execution_count": null,
      "outputs": []
    },
    {
      "cell_type": "code",
      "metadata": {
        "id": "T9yOXw6f8D38"
      },
      "source": [
        "with open('drive/MyDrive/circle/python_study_group/target.docx') as f:\n",
        "  text = f.read()"
      ],
      "execution_count": null,
      "outputs": []
    },
    {
      "cell_type": "markdown",
      "metadata": {
        "id": "7x0q44Q28ncQ"
      },
      "source": [
        "このコードだと怒られたと思います。\n",
        "\n",
        "怒られた内容はエンコードの違いや、ファイルの内容の違いが書かれているかと思います。\n",
        "\n",
        "実はファイルによって目に見えない中身が書き換わっていることがあり、単に読み出す場合にはそれ専用のモジュールが必要になります。\n",
        "\n",
        "今回はwordファイルなので試しにdocx2txtというモジュールをつかってファイルの書き出しを行いましょう。"
      ]
    },
    {
      "cell_type": "code",
      "metadata": {
        "id": "uNhcKLNc9D9x"
      },
      "source": [
        "%pip install docx2txt"
      ],
      "execution_count": null,
      "outputs": []
    },
    {
      "cell_type": "code",
      "metadata": {
        "id": "oFrBMPeG8m1p"
      },
      "source": [
        "import docx2txt"
      ],
      "execution_count": null,
      "outputs": []
    },
    {
      "cell_type": "code",
      "metadata": {
        "id": "qGskHMn09JJb"
      },
      "source": [
        "text = docx2txt.process('drive/MyDrive/circle/python_study_group/target.docx')\n",
        "print(text)"
      ],
      "execution_count": null,
      "outputs": []
    }
  ]
}