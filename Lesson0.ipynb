{
  "nbformat": 4,
  "nbformat_minor": 0,
  "metadata": {
    "colab": {
      "name": "Lesson0.ipynb",
      "provenance": [],
      "collapsed_sections": [
        "7ADR7GSg0IBp",
        "BYVCmSrf1Twy",
        "jQ2IhuI04FKo",
        "pXhKje969-qC",
        "7wN6PDPpHrTG",
        "T5ciSx8d1dlE",
        "BG0uHJro8Gp3",
        "yAaPDala37jW",
        "5cYzSWzrxYNm",
        "W03y9qnu0QNq",
        "vELtZV2g9KbT",
        "0Sx2NnEW2GWN",
        "38Nv3kWVAQde",
        "OceLW3_BDYoW"
      ],
      "authorship_tag": "ABX9TyMTyuBcn8ldzPLAAUBH7VWV",
      "include_colab_link": true
    },
    "kernelspec": {
      "name": "python3",
      "display_name": "Python 3"
    },
    "language_info": {
      "name": "python"
    }
  },
  "cells": [
    {
      "cell_type": "markdown",
      "metadata": {
        "id": "view-in-github",
        "colab_type": "text"
      },
      "source": [
        "<a href=\"https://colab.research.google.com/github/HinataKikuchi/Python_study_group/blob/main/Lesson0.ipynb\" target=\"_parent\"><img src=\"https://colab.research.google.com/assets/colab-badge.svg\" alt=\"Open In Colab\"/></a>"
      ]
    },
    {
      "cell_type": "markdown",
      "metadata": {
        "id": "7ADR7GSg0IBp"
      },
      "source": [
        "# 自己紹介\n",
        "- 名前 : ひなた\n",
        "\n",
        "- 所属 : \n",
        "\n",
        "- 趣味 : ゲーム、読書、食べること\n",
        "\n",
        "- ひとこと : もしスピードが速かったり、わからないことがあったら何でも聞いてください。"
      ]
    },
    {
      "cell_type": "code",
      "metadata": {
        "id": "-KNZQ_Ry1CbO"
      },
      "source": [
        "print(\"Hellow World!\")"
      ],
      "execution_count": null,
      "outputs": []
    },
    {
      "cell_type": "markdown",
      "metadata": {
        "id": "BYVCmSrf1Twy"
      },
      "source": [
        "# 本日のお品書き\n",
        "\n",
        "1. [Pythonとは](#Pythonとは)\n",
        "2. [かんたんに触ってみる](#かんたんに触ってみる)\n",
        "3. [演習](#演習)\n",
        "4. [実践](#実践)\n",
        "5. まとめ\n",
        "\n",
        "所要時間 : 30~40分目標(だめですね、終わりません。)\n"
      ]
    },
    {
      "cell_type": "markdown",
      "metadata": {
        "id": "jQ2IhuI04FKo"
      },
      "source": [
        "# 1. Pythonとは\n",
        "アプリ開発から数値計算まで何でもできちゃうすぐれもの！\n",
        "\n",
        "Google Colaboratoryで無料で開発可能。\n",
        "\n",
        "必要なのはgoogle アカウントとPCだけ！\n",
        "\n",
        "早速試しにやってみましょう"
      ]
    },
    {
      "cell_type": "code",
      "metadata": {
        "id": "mD1T58P25MuR"
      },
      "source": [
        "# 標準出力(文字を出力する)\n",
        "print(\"こんにちは！\")"
      ],
      "execution_count": null,
      "outputs": []
    },
    {
      "cell_type": "code",
      "metadata": {
        "id": "K7hWejs56DcP"
      },
      "source": [
        "# 演算\n",
        "1 + 2"
      ],
      "execution_count": null,
      "outputs": []
    },
    {
      "cell_type": "code",
      "metadata": {
        "id": "bJegrN_m6HgD"
      },
      "source": [
        "# 演算を複数列でやってみる\n",
        "1 + 3 + 5\n",
        "1 + 2"
      ],
      "execution_count": null,
      "outputs": []
    },
    {
      "cell_type": "code",
      "metadata": {
        "id": "s_uFgg_C6Nhk"
      },
      "source": [
        "# 全部出力したいとき\n",
        "print(1 + 3 + 5)\n",
        "print(1 + 2)"
      ],
      "execution_count": null,
      "outputs": []
    },
    {
      "cell_type": "markdown",
      "metadata": {
        "id": "Ue2XFPBs8uVa"
      },
      "source": [
        "# 2. かんたんに触ってみる\n",
        "\n",
        "Google Driveの中身を見て、触ることもできる！"
      ]
    },
    {
      "cell_type": "code",
      "metadata": {
        "id": "onCxrumF84rs"
      },
      "source": [
        "# おまじないチックだけど、自分のドライブの中身を見る方法\n",
        "from google.colab import drive\n",
        "drive.mount('/content/drive')"
      ],
      "execution_count": null,
      "outputs": []
    },
    {
      "cell_type": "code",
      "metadata": {
        "id": "BClC62ZK91nS"
      },
      "source": [
        "# 実際に見てみる。\n",
        "%ls drive/MyDrive/"
      ],
      "execution_count": null,
      "outputs": []
    },
    {
      "cell_type": "markdown",
      "metadata": {
        "id": "NRgoL-Uj4hti"
      },
      "source": [
        "~実は左側のフォルダアイコンから見ることもできます~\n",
        "\n",
        "~ただしこの場合もdrive のマウント(=さっきの呪文)は必須です。セキュリティのため~"
      ]
    },
    {
      "cell_type": "markdown",
      "metadata": {
        "id": "pXhKje969-qC"
      },
      "source": [
        "## シェルコマンドについて\n",
        "\n",
        "Q. シェルコマンドとは？\n",
        "\n",
        "A. コマンドラインと呼ばれる場所に文字として入力するだけでPCに命令する方法！\n",
        "\n",
        "Colaboratoryは%を付けて入力することでセルをコマンドラインにすることができる！"
      ]
    },
    {
      "cell_type": "code",
      "metadata": {
        "id": "0U3MpoGxFG2r"
      },
      "source": [
        "# 今いる場所に何があるか表示する(list segmentsの略)\n",
        "%ls"
      ],
      "execution_count": null,
      "outputs": []
    },
    {
      "cell_type": "code",
      "metadata": {
        "id": "_1W0jX3x95yz"
      },
      "source": [
        "# ディレクトリを移動する\n",
        "%cd drive/MyDrive"
      ],
      "execution_count": null,
      "outputs": []
    },
    {
      "cell_type": "code",
      "metadata": {
        "id": "XxPg7_PZFK4B"
      },
      "source": [
        "# 今いる場所がどこか表示する\n",
        "%pwd"
      ],
      "execution_count": null,
      "outputs": []
    },
    {
      "cell_type": "code",
      "metadata": {
        "id": "hGm6pnvWGrFY"
      },
      "source": [
        "# 試しになにがあるか表示してみよう！\n"
      ],
      "execution_count": null,
      "outputs": []
    },
    {
      "cell_type": "markdown",
      "metadata": {
        "id": "7wN6PDPpHrTG"
      },
      "source": [
        "# 3. 演習\n",
        "ここまでのおさらいをします！\n",
        "\n",
        "やった内容を見ながら出構いません、以下の問いの下にコードを書いてください！"
      ]
    },
    {
      "cell_type": "code",
      "metadata": {
        "id": "A_xS47pFHzmx"
      },
      "source": [
        "# Q. こんにちはと出力してください\n",
        "# A. 以下に記述\n"
      ],
      "execution_count": null,
      "outputs": []
    },
    {
      "cell_type": "code",
      "metadata": {
        "id": "R9m5s98aH3Ox"
      },
      "source": [
        "# Q. MyDriveディレクトリの中を見せてください\n",
        "# A. 以下に記述"
      ],
      "execution_count": null,
      "outputs": []
    },
    {
      "cell_type": "code",
      "metadata": {
        "id": "b4srfn28wpww"
      },
      "source": [
        "# Q. MyDriveディレクトリ以下どこでも構いません、移動してみてください。\n",
        "# A. 以下に記述"
      ],
      "execution_count": null,
      "outputs": []
    },
    {
      "cell_type": "markdown",
      "metadata": {
        "id": "T5ciSx8d1dlE"
      },
      "source": [
        "### 解答"
      ]
    },
    {
      "cell_type": "code",
      "metadata": {
        "id": "8CtqmjQz1ihj"
      },
      "source": [
        "# 1.\n",
        "print(こんにちは)"
      ],
      "execution_count": null,
      "outputs": []
    },
    {
      "cell_type": "code",
      "metadata": {
        "id": "0TGE_pO-1lRs"
      },
      "source": [
        "# 2.\n",
        "%ls drive/MyDrive"
      ],
      "execution_count": null,
      "outputs": []
    },
    {
      "cell_type": "code",
      "metadata": {
        "id": "1cXtjPcH1pFB"
      },
      "source": [
        "# 3.一例\n",
        "%cd drive/MyDrive/circle"
      ],
      "execution_count": null,
      "outputs": []
    },
    {
      "cell_type": "markdown",
      "metadata": {
        "id": "IgoX3EOa4_sh"
      },
      "source": [
        "# 4. 実践"
      ]
    },
    {
      "cell_type": "markdown",
      "metadata": {
        "id": "BG0uHJro8Gp3"
      },
      "source": [
        "## 4.1 txtファイルの読み出し\n",
        "\n",
        "試しに同じ階層のファイルを読むというのを試します。\n",
        "\n",
        "まずお渡ししたフォルダの中で```target.txt```というのを探してみてください"
      ]
    },
    {
      "cell_type": "code",
      "metadata": {
        "id": "YLzodLq46KHf"
      },
      "source": [
        "%ls drive/MyDrive/circle/python_study_group/Lesson0/target.txt"
      ],
      "execution_count": null,
      "outputs": []
    },
    {
      "cell_type": "markdown",
      "metadata": {
        "id": "HRIahgDZ6spS"
      },
      "source": [
        "見つけることができたら、下のopenの中のカッコにそのパス(drive/から/targe.txtまでの文字列)を書き込んでください"
      ]
    },
    {
      "cell_type": "code",
      "metadata": {
        "id": "Hlo1t_Qa5IG5"
      },
      "source": [
        "# with openでファイルを開く(開き終わったらwith処理が閉じてくれる)\n",
        "# 開かれたファイル名をいったんfとする\n",
        "with open('drive/... /target.txt') as f:\n",
        "\n",
        "  # fの中身をreadで読み出す。\n",
        "  # 読んだ内容をtextという名前の変数に保存\n",
        "  text = f.read()\n",
        "\n",
        "# 保存されたものを表示\n",
        "print(text)"
      ],
      "execution_count": null,
      "outputs": []
    },
    {
      "cell_type": "markdown",
      "metadata": {
        "id": "RxFgyJic67Hr"
      },
      "source": [
        "プログラムの中からもファイルの中身が確認できることが分かりました"
      ]
    },
    {
      "cell_type": "markdown",
      "metadata": {
        "id": "yAaPDala37jW"
      },
      "source": [
        "## 4.2 wordファイルの読み出し\n",
        "\n",
        "試しにwordファイルを開いてみたいと思います\n",
        "\n",
        "wordファイルの拡張子(.以降の文字)は```.docx```です"
      ]
    },
    {
      "cell_type": "code",
      "metadata": {
        "id": "3ylHZHwm6-Kx"
      },
      "source": [
        "# お渡ししたディレクトリフォルダ内でdocxファイルを探してみてください\n"
      ],
      "execution_count": null,
      "outputs": []
    },
    {
      "cell_type": "code",
      "metadata": {
        "id": "T9yOXw6f8D38"
      },
      "source": [
        "with open(docx file path) as f:\n",
        "  text = f.read()"
      ],
      "execution_count": null,
      "outputs": []
    },
    {
      "cell_type": "markdown",
      "metadata": {
        "id": "7x0q44Q28ncQ"
      },
      "source": [
        "このコードだと怒られたと思います。\n",
        "\n",
        "\n",
        "実はファイルによって目に見えない中身が書き換わっていることがあり、単に読み出す場合にはそれ専用のモジュールが必要になります。\n",
        "\n",
        "今回はwordファイルなので試しにdocx2txtというモジュールをつかってファイルの書き出しを行いましょう。"
      ]
    },
    {
      "cell_type": "code",
      "metadata": {
        "id": "uNhcKLNc9D9x"
      },
      "source": [
        "# まずはファイルを読み出すためのモジュールをインストールします。\n",
        "# 呪文のようですが、pipはモジュールをインストールするための道具だと思ってください。\n",
        "%pip install docx2txt"
      ],
      "execution_count": null,
      "outputs": []
    },
    {
      "cell_type": "code",
      "metadata": {
        "id": "oFrBMPeG8m1p"
      },
      "source": [
        "# インストールしたモジュールを使う宣言をします\n",
        "# importはこの先も使うので覚えておくと便利です。\n",
        "import docx2txt"
      ],
      "execution_count": null,
      "outputs": []
    },
    {
      "cell_type": "markdown",
      "metadata": {
        "id": "_S17_6DMZA9d"
      },
      "source": [
        "これでモジュールを使う準備が整いました。\n",
        "\n",
        "docx2txtで読み出す場合はprocessという関数を使って指定されたパスから文字列を抽出します\n",
        "\n",
        ".はモジュールの中の何の関数を使うのかを指定する意味があります"
      ]
    },
    {
      "cell_type": "code",
      "metadata": {
        "id": "qGskHMn09JJb"
      },
      "source": [
        "# docx2txt.process('読みたいdocxファイルパス')とすると、戻り値は読みだした文字列\n",
        "text = docx2txt.process('drive/MyDrive/circle/python_study_group/Lesson0/target.docx')\n",
        "print(text)"
      ],
      "execution_count": null,
      "outputs": []
    },
    {
      "cell_type": "markdown",
      "metadata": {
        "id": "5cYzSWzrxYNm"
      },
      "source": [
        "\n",
        "## 4.3 データの抽出"
      ]
    },
    {
      "cell_type": "markdown",
      "metadata": {
        "id": "Z020L7D13l1h"
      },
      "source": [
        "さて、wordから抽出した文字列データですが成形が必要です。\n",
        "\n",
        "どこからどこまでが人間が読みたいデータなのかは人間が判断する必要があります。\n",
        "\n",
        "その作業の後、データを格納していきます。"
      ]
    },
    {
      "cell_type": "code",
      "metadata": {
        "id": "of_jYgoh3l1i"
      },
      "source": [
        "# 先ほど読みだしたwordデータを出力(表示)してみましょう！\n"
      ],
      "execution_count": null,
      "outputs": []
    },
    {
      "cell_type": "markdown",
      "metadata": {
        "id": "d_CZgJqG3l1i"
      },
      "source": [
        "部署名、作成者名、変更日に入力があります。\n",
        "\n",
        "この内容のみをpandasのデータフレームに格納しましょう。\n",
        "\n",
        "まずはテキストをsplit関数と呼ばれる任意の文字で文章を切り出す関数を用いて、改行ごとに切りだしてみます。\n",
        "\n",
        "一緒にやってみましょう"
      ]
    },
    {
      "cell_type": "code",
      "metadata": {
        "id": "MMHEnKZy3l1i"
      },
      "source": [
        "words = text.split('\\n')\n",
        "print(words)"
      ],
      "execution_count": null,
      "outputs": []
    },
    {
      "cell_type": "markdown",
      "metadata": {
        "id": "xsctXOXf3l1j"
      },
      "source": [
        "'\\n'は改行コードと呼ばれる文字です。\n",
        "\n",
        "普段は見えませんが、明示的に表す場合は```\\(バックスラッシュ) + n```で表します。\n",
        "\n",
        "改行で文字列を区切ることによって改行のみの行や、文字列の入った行を```'文字列',```で切ることができています。\n",
        "\n",
        "今回の出力のなかでも以下の情報を今回、本当にほしい情報とします。\n",
        "\n",
        "```\n",
        "'部署名', '', 'てすと', '', '氏名', '', 'ひなた', '', '作成日', '', '2021年\\u300010月\\u300025日',\n",
        " ```\n",
        "\n",
        "これを\n",
        "\n",
        "|部署名|氏名|作成日|\n",
        "|:---:|:---:|:---:|\n",
        "|てすと|ひなた|2021年\\u300010月\\u300025日|\n",
        "\n",
        "という形のデータとして格納するのが今回の最終目標です。\n",
        "\n",
        "さて、ここで```['新商品企画書', '', '部署名',... , '']```というのは何なのかが気になってきます。\n",
        "\n",
        "これはリストと呼ばれる、コンマ区切りの一連のデータ群です。\n",
        "\n",
        "わけわかんないですね、とりあえず次のセル見てみましょう。"
      ]
    },
    {
      "cell_type": "code",
      "metadata": {
        "id": "TTtt3MOc3l1j"
      },
      "source": [
        "  for val in words:\n",
        "    print(val)"
      ],
      "execution_count": null,
      "outputs": []
    },
    {
      "cell_type": "markdown",
      "metadata": {
        "id": "p1iRXBEU3l1j"
      },
      "source": [
        "for と呼ばれるプログラム上の自動化機能を使いました。\n",
        "\n",
        "wordsに格納されている文字をvalに一つずつ入れていきます。\n",
        "\n",
        "リストの最後の要素に行くまで一つずつ```print(val)```で出力させています。\n",
        "\n",
        "これを使えばいっぺんに文字要素を見て行けそうですね。\n",
        "\n",
        "今出力している要素が、何番目の要素なのかを表示する関数も一緒に使ってみたいと思います。\n",
        "\n",
        "以下のコードを実行してみてください。"
      ]
    },
    {
      "cell_type": "code",
      "metadata": {
        "id": "PTWtJYPe3l1j"
      },
      "source": [
        "for idx, val in enumerate(words):\n",
        "  print(idx, val)"
      ],
      "execution_count": null,
      "outputs": []
    },
    {
      "cell_type": "markdown",
      "metadata": {
        "id": "PTuSkGu33l1j"
      },
      "source": [
        "```enumerate```は、forで回している要素が何番目なのか数えてくれます。\n",
        "\n",
        "今回はidxに何番目の要素を表示しているかが格納されています。\n",
        "\n",
        "上記のセルでは```idx val ```のように出力されることが分かりました。\n",
        "\n",
        "valの中身が空白でない場合に表示するというコードを書いてみようと思います。\n",
        "\n",
        "その場合の条件は以下のように書くことができます。\n",
        "\n",
        "```py\n",
        "if val != '任意の文字列':\n",
        "  print(val)\n",
        "```\n",
        "一旦```!= ```は呪文として覚えてください(意味はnot equal)\n",
        "\n",
        "val が'任意の文字'でないときprintすると書かれています。\n",
        "\n",
        "今回で言えば任意の文字は何もない文字なので、''でよいことになります。\n",
        "\n",
        "このコードを使って試しに以下のコードを意図した動作をするように埋めてみてください。\n"
      ]
    },
    {
      "cell_type": "code",
      "metadata": {
        "id": "nj-_DGGq3l1j"
      },
      "source": [
        "for #idx, val enumerate(???):\n",
        "  if #val ??? :\n",
        "    print(val)"
      ],
      "execution_count": null,
      "outputs": []
    },
    {
      "cell_type": "markdown",
      "metadata": {
        "id": "pCno5ImJ3l1j"
      },
      "source": [
        "forと組み合わせたif文で条件が書けることが分かりました。\n",
        "\n",
        "ここで添え字を使った表示方法を試してみましょう。\n",
        "\n",
        "先ほどのidxを使って要素を表示させてみます。"
      ]
    },
    {
      "cell_type": "code",
      "metadata": {
        "id": "iCY9a29k3l1k"
      },
      "source": [
        "for idx, val in enumerate(words):\n",
        "  print(words[idx])"
      ],
      "execution_count": null,
      "outputs": []
    },
    {
      "cell_type": "markdown",
      "metadata": {
        "id": "54NkdymX3l1k"
      },
      "source": [
        "この方法を使うと、wordsのidx番目を表示するというのが可能です。\n",
        "\n",
        "試しに、今いるvalから見て3番目も同時に表示してみましょう"
      ]
    },
    {
      "cell_type": "code",
      "metadata": {
        "id": "TJHWl5WQ3l1k"
      },
      "source": [
        "for idx, val in enumerate(words):\n",
        "  # idx番目の3つとなりなので、idx + 3とすればよい\n",
        "  print(words[idx], words[idx + 3])"
      ],
      "execution_count": null,
      "outputs": []
    },
    {
      "cell_type": "markdown",
      "metadata": {
        "id": "8byYYC4b3l1k"
      },
      "source": [
        "エラーが出力されたと思います。\n",
        "\n",
        "これはidx番目の上限を超えてデータを取り出しに行ってしまったというエラーです。\n",
        "\n",
        "このように、添え字を使ってデータを扱う場合にはデータの長さにも注意が必要です。\n",
        "\n",
        "うっかりデータのない場所にも読みにいかないように、for文で添え字を使うときは注意しましょう。"
      ]
    },
    {
      "cell_type": "markdown",
      "metadata": {
        "id": "mj0lvWlG3Ur3"
      },
      "source": [
        "ここでデータをもう一度見てみましょう。\n",
        "\n",
        "対象のデータは以下のようになっていました。\n",
        "\n",
        "```'部署名', '', 'てすと', '', '氏名', '', 'ひなた', '', '作成日', '', '2021年\\u300010月\\u300025日',```\n",
        "\n",
        "対象のデータ名の後、1つ飛ばしてほしいデータがあるようです。(月日の\\uは気にしないで大丈夫です)\n",
        "\n",
        "まずは部署名、氏名、作成日が出た時のみ、一つ飛ばして次のデータを表示できればよいようです。\n",
        "\n",
        "プログラムの仕様は以下の通りです。\n",
        "```\n",
        "1. for文で、wordsを一つずつ処理、\n",
        "2. if文で'部署名'、'氏名'、'作成日'のどれかに当たるときは1つ飛ばした先の要素を表示する。\n",
        "```\n",
        "\n",
        "今回のヒントは以下の通りです。\n",
        "\n",
        "```\n",
        "1. 二つの値が等しくない時は!=だったが、等しいときは==で表される。\n",
        "2. 今見ているデータの1つ飛ばして先の要素を見たらいい。この時、データの長さに注意して。\n",
        "3. 条件を満たしたときにfor文を出たい場合はbreakを使うとよい。\n",
        "```"
      ]
    },
    {
      "cell_type": "code",
      "metadata": {
        "id": "C13HwcaFyTbN"
      },
      "source": [
        "# こちらに回答をどうぞ\n"
      ],
      "execution_count": null,
      "outputs": []
    },
    {
      "cell_type": "markdown",
      "metadata": {
        "id": "W03y9qnu0QNq"
      },
      "source": [
        "##### ヒント\n",
        "\n",
        "わからない場合は以下の内容を埋めることを目標にしてみてください！"
      ]
    },
    {
      "cell_type": "code",
      "metadata": {
        "id": "C6GeFWVf0TDP"
      },
      "source": [
        "for idx, val in enumerate(?一つずつ調べたいデータ?):\n",
        "  if val == '??任意の文字列??':\n",
        "    # words の添え字番目を見たいという点に注意\n",
        "    print(words[ ???? ])\n",
        "  if val == '?? 任意の文字列 ??': \n",
        "    print(words[ ???? ])\n",
        "  if val == '?? 任意の文字列 ??': \n",
        "    print(words[ ???? ])"
      ],
      "execution_count": null,
      "outputs": []
    },
    {
      "cell_type": "markdown",
      "metadata": {
        "id": "NOXr2x1Oz2Pc"
      },
      "source": [
        "##### 解答\n",
        "\n",
        "答えです、ヒントを見てもわからない場合は参照してください！"
      ]
    },
    {
      "cell_type": "code",
      "metadata": {
        "id": "Ix-reC_lz4PR"
      },
      "source": [
        "for idx, val in enumerate(words):\n",
        "  if val == '部署名':\n",
        "    print(words[idx + 2])\n",
        "  if val == '氏名':\n",
        "    print(words[idx + 2])\n",
        "  if val == '作成日':\n",
        "    print(words[idx + 2])"
      ],
      "execution_count": null,
      "outputs": []
    },
    {
      "cell_type": "markdown",
      "metadata": {
        "id": "if2FXM3x-rJz"
      },
      "source": [
        "##### これでwordからの読み出しが行えるようになりました\n"
      ]
    },
    {
      "cell_type": "markdown",
      "metadata": {
        "id": "vELtZV2g9KbT"
      },
      "source": [
        "## 4.4 読みだした情報を格納する"
      ]
    },
    {
      "cell_type": "markdown",
      "metadata": {
        "id": "uvv8xkge88A7"
      },
      "source": [
        "ここからデータフレームと呼ばれるプログラム上の変数の中に情報を格納してみたいと思います。\n",
        "\n",
        "データフレームはpandasと呼ばれるモジュールの機能の一つで、機械学習や一般のデータを取り扱う際に使われます"
      ]
    },
    {
      "cell_type": "code",
      "metadata": {
        "id": "RNHBOZU4ZhmI"
      },
      "source": [
        "# pandasをpip でインストールしてみましょう！\n"
      ],
      "execution_count": null,
      "outputs": []
    },
    {
      "cell_type": "code",
      "metadata": {
        "id": "iDaXigTlcJ0C"
      },
      "source": [
        "# pandasをimportしてみましょう！\n"
      ],
      "execution_count": null,
      "outputs": []
    },
    {
      "cell_type": "markdown",
      "metadata": {
        "id": "0Sx2NnEW2GWN"
      },
      "source": [
        "##### 解答"
      ]
    },
    {
      "cell_type": "code",
      "metadata": {
        "id": "mNDQ_52S2IDu"
      },
      "source": [
        "# 1. %を忘れがち！\n",
        "%pip install pandas"
      ],
      "execution_count": null,
      "outputs": []
    },
    {
      "cell_type": "code",
      "metadata": {
        "id": "dutKlD9k2O4q"
      },
      "source": [
        "# 2.\n",
        "import pandas"
      ],
      "execution_count": 24,
      "outputs": []
    },
    {
      "cell_type": "markdown",
      "metadata": {
        "id": "Pwd15W7ocYi7"
      },
      "source": [
        "#### pandasモジュールを使う準備が整いました。\n",
        "\n",
        "ここで先ほどの復習に必要なデータを出力してみましょう"
      ]
    },
    {
      "cell_type": "code",
      "metadata": {
        "id": "ixmX6biR1GIT"
      },
      "source": [
        "# 以下にwordで読み出したデータから'部署名'、'氏名'、'作成日'を出力するコードを記述してください。\n"
      ],
      "execution_count": null,
      "outputs": []
    },
    {
      "cell_type": "markdown",
      "metadata": {
        "id": "2h7OKJdl9XC0"
      },
      "source": [
        "ここまではデータの出力でしたが、今回はデータをデータフレームに格納する作業を行います。\n",
        "\n",
        "まず試しに空のデータフレームを作成します。以下のコードを実行してみてください"
      ]
    },
    {
      "cell_type": "code",
      "metadata": {
        "colab": {
          "base_uri": "https://localhost:8080/",
          "height": 32
        },
        "id": "cHT92_nj_G1D",
        "outputId": "256e7707-a61a-49dd-f426-95aeb9e66cca"
      },
      "source": [
        "df = pandas.DataFrame()\n",
        "df"
      ],
      "execution_count": 28,
      "outputs": [
        {
          "output_type": "execute_result",
          "data": {
            "text/html": [
              "<div>\n",
              "<style scoped>\n",
              "    .dataframe tbody tr th:only-of-type {\n",
              "        vertical-align: middle;\n",
              "    }\n",
              "\n",
              "    .dataframe tbody tr th {\n",
              "        vertical-align: top;\n",
              "    }\n",
              "\n",
              "    .dataframe thead th {\n",
              "        text-align: right;\n",
              "    }\n",
              "</style>\n",
              "<table border=\"1\" class=\"dataframe\">\n",
              "  <thead>\n",
              "    <tr style=\"text-align: right;\">\n",
              "      <th></th>\n",
              "    </tr>\n",
              "  </thead>\n",
              "  <tbody>\n",
              "  </tbody>\n",
              "</table>\n",
              "</div>"
            ],
            "text/plain": [
              "Empty DataFrame\n",
              "Columns: []\n",
              "Index: []"
            ]
          },
          "metadata": {},
          "execution_count": 28
        }
      ]
    },
    {
      "cell_type": "markdown",
      "metadata": {
        "id": "kOCT5TOU_PDh"
      },
      "source": [
        "本当に空なので何も表示されません。(printを使った場合は中身が本当に空である旨が表示されるはずです。)\n",
        "\n",
        "試しに、データフレームのカラム(列)に'部署名'、'氏名'、'作成日'と名前を付けてみましょう。以下のコードを実行してください。"
      ]
    },
    {
      "cell_type": "code",
      "metadata": {
        "colab": {
          "base_uri": "https://localhost:8080/",
          "height": 49
        },
        "id": "dTW1pRxC_Owr",
        "outputId": "eca4090d-5642-4bc1-9c76-7f252c6d9eb5"
      },
      "source": [
        "df = pandas.DataFrame(columns=['部署名', '氏名', '作成日'])\n",
        "df"
      ],
      "execution_count": 46,
      "outputs": [
        {
          "output_type": "execute_result",
          "data": {
            "text/html": [
              "<div>\n",
              "<style scoped>\n",
              "    .dataframe tbody tr th:only-of-type {\n",
              "        vertical-align: middle;\n",
              "    }\n",
              "\n",
              "    .dataframe tbody tr th {\n",
              "        vertical-align: top;\n",
              "    }\n",
              "\n",
              "    .dataframe thead th {\n",
              "        text-align: right;\n",
              "    }\n",
              "</style>\n",
              "<table border=\"1\" class=\"dataframe\">\n",
              "  <thead>\n",
              "    <tr style=\"text-align: right;\">\n",
              "      <th></th>\n",
              "      <th>部署名</th>\n",
              "      <th>氏名</th>\n",
              "      <th>作成日</th>\n",
              "    </tr>\n",
              "  </thead>\n",
              "  <tbody>\n",
              "  </tbody>\n",
              "</table>\n",
              "</div>"
            ],
            "text/plain": [
              "Empty DataFrame\n",
              "Columns: [部署名, 氏名, 作成日]\n",
              "Index: []"
            ]
          },
          "metadata": {},
          "execution_count": 46
        }
      ]
    },
    {
      "cell_type": "markdown",
      "metadata": {
        "id": "XRftZ6Ga_1Ka"
      },
      "source": [
        "カラム(列)の名前が表示されるようになりました。\n",
        "\n",
        "ここにデータを追加していきます。\n",
        "\n",
        "データの追加は以下のように行います。\n",
        "\n",
        "```\n",
        "データフレーム名['カラム名'] = [格納したいデータ]\n",
        "```\n",
        "試しにdfの部署名に'U-lab'、氏名に自分の名前、作成日に今日(2021年10月25日)を入れてみましょう\n",
        "\n",
        "(文字列はシングルコーテーションを忘れずに,格納したいデータにも[]を忘れずに)"
      ]
    },
    {
      "cell_type": "code",
      "metadata": {
        "id": "gBvWwHVzAL8t"
      },
      "source": [
        "# ここに書いてみてください\n"
      ],
      "execution_count": null,
      "outputs": []
    },
    {
      "cell_type": "markdown",
      "metadata": {
        "id": "38Nv3kWVAQde"
      },
      "source": [
        "##### 解答"
      ]
    },
    {
      "cell_type": "code",
      "metadata": {
        "id": "KOeiTNTLASF3"
      },
      "source": [
        "df['部署名'] = ['U-lab']\n",
        "df['氏名'] = ['hkikuchi']\n",
        "df['作成日'] = ['2021年10月25日']"
      ],
      "execution_count": 47,
      "outputs": []
    },
    {
      "cell_type": "markdown",
      "metadata": {
        "id": "L5tz_vDkAfIr"
      },
      "source": [
        "#### この状態で確認してみます。"
      ]
    },
    {
      "cell_type": "code",
      "metadata": {
        "colab": {
          "base_uri": "https://localhost:8080/",
          "height": 80
        },
        "id": "gypQcB0sA99V",
        "outputId": "5a96afce-93b0-4602-bf5b-ce823901472d"
      },
      "source": [
        "df"
      ],
      "execution_count": 49,
      "outputs": [
        {
          "output_type": "execute_result",
          "data": {
            "text/html": [
              "<div>\n",
              "<style scoped>\n",
              "    .dataframe tbody tr th:only-of-type {\n",
              "        vertical-align: middle;\n",
              "    }\n",
              "\n",
              "    .dataframe tbody tr th {\n",
              "        vertical-align: top;\n",
              "    }\n",
              "\n",
              "    .dataframe thead th {\n",
              "        text-align: right;\n",
              "    }\n",
              "</style>\n",
              "<table border=\"1\" class=\"dataframe\">\n",
              "  <thead>\n",
              "    <tr style=\"text-align: right;\">\n",
              "      <th></th>\n",
              "      <th>部署名</th>\n",
              "      <th>氏名</th>\n",
              "      <th>作成日</th>\n",
              "    </tr>\n",
              "  </thead>\n",
              "  <tbody>\n",
              "    <tr>\n",
              "      <th>0</th>\n",
              "      <td>U-lab</td>\n",
              "      <td>hkikuchi</td>\n",
              "      <td>2021年10月25日</td>\n",
              "    </tr>\n",
              "  </tbody>\n",
              "</table>\n",
              "</div>"
            ],
            "text/plain": [
              "     部署名        氏名          作成日\n",
              "0  U-lab  hkikuchi  2021年10月25日"
            ]
          },
          "metadata": {},
          "execution_count": 49
        }
      ]
    },
    {
      "cell_type": "markdown",
      "metadata": {
        "id": "llMijNwbAsoC"
      },
      "source": [
        "無事にデータが格納されていることが確認できましたね。\n",
        "\n",
        "さて、先ほどのwordから抽出したデータを表示するfor文をコピーしてデータフレームに格納してみたいと思います。\n",
        "\n",
        "ひな形を下に用意しました。\n"
      ]
    },
    {
      "cell_type": "code",
      "metadata": {
        "colab": {
          "base_uri": "https://localhost:8080/"
        },
        "id": "bRuOS7Q8C0Uj",
        "outputId": "841ee093-325b-4848-a068-9eb8b6769f8e"
      },
      "source": [
        "for idx, val in enumerate(words):\n",
        "  if val == '部署名':\n",
        "    print(words[idx + 2])\n",
        "  if val == '氏名':\n",
        "    print(words[idx + 2])\n",
        "  if val == '作成日':\n",
        "    print(words[idx + 2])"
      ],
      "execution_count": 50,
      "outputs": [
        {
          "output_type": "stream",
          "name": "stdout",
          "text": [
            "てすと\n",
            "ひなた\n",
            "2021年　10月　25日\n"
          ]
        }
      ]
    },
    {
      "cell_type": "markdown",
      "metadata": {
        "id": "6iGFXvvyDMRK"
      },
      "source": [
        "この内容を少し書き換えていきます。\n",
        "\n",
        "printではなく、データに格納すればよいのです。\n",
        "\n",
        "格納の方法はすでに知っているはず、試しに書いてみましょう。"
      ]
    },
    {
      "cell_type": "code",
      "metadata": {
        "id": "dZu0aljBDUP0"
      },
      "source": [
        "# 試しに格納してみましょう"
      ],
      "execution_count": null,
      "outputs": []
    },
    {
      "cell_type": "markdown",
      "metadata": {
        "id": "OceLW3_BDYoW"
      },
      "source": [
        "##### ヒント\n"
      ]
    },
    {
      "cell_type": "code",
      "metadata": {
        "id": "usNvDLSjDdZw"
      },
      "source": [
        "# はてな部分が分かればすぐに解けるはず！\n",
        "for idx, val in enumerate(words):\n",
        "  if val == '部署名':\n",
        "    ??? = [words[idx + 2]]\n",
        "  if val == '氏名':\n",
        "    ??? = [words[idx + 2]]\n",
        "  if val == '作成日':\n",
        "    ??? = [words[idx + 2]]"
      ],
      "execution_count": null,
      "outputs": []
    },
    {
      "cell_type": "markdown",
      "metadata": {
        "id": "db3qTsKoDsDz"
      },
      "source": [
        "##### 解答"
      ]
    },
    {
      "cell_type": "code",
      "metadata": {
        "id": "Dt6AitReDtxb"
      },
      "source": [
        "# はてな部分が分かればすぐに解けるはず！\n",
        "for idx, val in enumerate(words):\n",
        "  if val == '部署名':\n",
        "    df['部署名'] = [words[idx + 2]]\n",
        "  if val == '氏名':\n",
        "    df['氏名'] = [words[idx + 2]]\n",
        "  if val == '作成日':\n",
        "    df['作成日'] = [words[idx + 2]]"
      ],
      "execution_count": 52,
      "outputs": []
    },
    {
      "cell_type": "code",
      "metadata": {
        "colab": {
          "base_uri": "https://localhost:8080/",
          "height": 80
        },
        "id": "GkLcnhwpD6_t",
        "outputId": "c22aa488-f2f3-4759-ad51-dfaf2f032c39"
      },
      "source": [
        "df"
      ],
      "execution_count": 53,
      "outputs": [
        {
          "output_type": "execute_result",
          "data": {
            "text/html": [
              "<div>\n",
              "<style scoped>\n",
              "    .dataframe tbody tr th:only-of-type {\n",
              "        vertical-align: middle;\n",
              "    }\n",
              "\n",
              "    .dataframe tbody tr th {\n",
              "        vertical-align: top;\n",
              "    }\n",
              "\n",
              "    .dataframe thead th {\n",
              "        text-align: right;\n",
              "    }\n",
              "</style>\n",
              "<table border=\"1\" class=\"dataframe\">\n",
              "  <thead>\n",
              "    <tr style=\"text-align: right;\">\n",
              "      <th></th>\n",
              "      <th>部署名</th>\n",
              "      <th>氏名</th>\n",
              "      <th>作成日</th>\n",
              "    </tr>\n",
              "  </thead>\n",
              "  <tbody>\n",
              "    <tr>\n",
              "      <th>0</th>\n",
              "      <td>てすと</td>\n",
              "      <td>ひなた</td>\n",
              "      <td>2021年　10月　25日</td>\n",
              "    </tr>\n",
              "  </tbody>\n",
              "</table>\n",
              "</div>"
            ],
            "text/plain": [
              "   部署名   氏名            作成日\n",
              "0  てすと  ひなた  2021年　10月　25日"
            ]
          },
          "metadata": {},
          "execution_count": 53
        }
      ]
    },
    {
      "cell_type": "markdown",
      "metadata": {
        "id": "4qxK6CCgEWy1"
      },
      "source": [
        "## 4.5 格納したデータをエクセルへ格納する"
      ]
    },
    {
      "cell_type": "markdown",
      "metadata": {
        "id": "rW7nuiyYEdyf"
      },
      "source": [
        "長らくお待たせしました、データをエクセルへ格納しましょう。\n",
        "\n",
        "現在データフレームに格納されているものを、任意の場所にエクセルとして保存します。\n",
        "\n",
        "pythonでエクセルを扱うためには```openpyxl```と呼ばれるモジュールを使用します。"
      ]
    },
    {
      "cell_type": "code",
      "metadata": {
        "id": "jz1yQRglEovK"
      },
      "source": [
        "# pipでopenpyxlをインストールしてみましょう\n"
      ],
      "execution_count": null,
      "outputs": []
    },
    {
      "cell_type": "code",
      "metadata": {
        "id": "ATx-PG4CEV7e"
      },
      "source": [
        "# openpyxlをimportしてみてください。\n"
      ],
      "execution_count": null,
      "outputs": []
    },
    {
      "cell_type": "markdown",
      "metadata": {
        "id": "PFK9uoBKE8qJ"
      },
      "source": [
        "エクセルを保存する場所を決めましょう\n",
        "\n",
        "同じディレクトリの```target_filesフォルダ```内に```target.xlsx```を作成しておきました。\n",
        "\n",
        "そこに書き込んでいきます。"
      ]
    },
    {
      "cell_type": "code",
      "metadata": {
        "id": "s2cweG_7FOyz"
      },
      "source": [
        "# lsコマンドで現在コードを書いているファイルが存在する階層を探してください。\n"
      ],
      "execution_count": null,
      "outputs": []
    },
    {
      "cell_type": "markdown",
      "metadata": {
        "id": "HFwmii2RFXS5"
      },
      "source": [
        "dataframeを格納するには\n",
        "\n",
        "```py\n",
        "データフレーム名.to_excel('保存先パス', sheet_name='シート名')\n",
        "```\n",
        "\n",
        "とすることで格納できます。\n",
        "\n",
        "試しにやってみましょう！"
      ]
    },
    {
      "cell_type": "code",
      "metadata": {
        "id": "5VVaaDayJy9_"
      },
      "source": [
        "# 以下にエクセルへデータを保存するコードを書いてみましょう！\n"
      ],
      "execution_count": null,
      "outputs": []
    },
    {
      "cell_type": "markdown",
      "metadata": {
        "id": "afvkOayyLbUJ"
      },
      "source": [
        "##### 解答\n"
      ]
    },
    {
      "cell_type": "code",
      "metadata": {
        "colab": {
          "base_uri": "https://localhost:8080/"
        },
        "id": "sNb4p_9BMGep",
        "outputId": "8a37e6d8-7f90-47b4-c35a-53a7d6a37167"
      },
      "source": [
        "%ls python_study_group/Lesson0/"
      ],
      "execution_count": 56,
      "outputs": [
        {
          "output_type": "stream",
          "name": "stdout",
          "text": [
            "Lesson0.ipynb  target.docx  target.txt  target.xlsx\n"
          ]
        }
      ]
    },
    {
      "cell_type": "code",
      "metadata": {
        "id": "ljEVaggtMEEr"
      },
      "source": [
        "df.to_excel('python_study_group/Lesson0/target.xlsx','Sheet1')"
      ],
      "execution_count": 57,
      "outputs": []
    },
    {
      "cell_type": "markdown",
      "metadata": {
        "id": "zfpbZvIdMbPl"
      },
      "source": [
        "##### はい、これでおしまい。"
      ]
    },
    {
      "cell_type": "markdown",
      "metadata": {
        "id": "GmvvdbzhMqC4"
      },
      "source": [
        "## 5 まとめ\n",
        "\n",
        "データフレームに格納するまでがつらいと思いますが、その後は割と単純です。\n",
        "\n",
        "エクセルへの書き出しや、エクセルからの吸出しもdataframeを使えば割と簡単にこなせちゃいます。\n",
        "\n",
        "これ、1枚では意味がないと思いがちですが、ところがどっこい\n",
        "\n",
        "読み出しのpathをforで回せる形にしておけば、何千何万というファイルをこの形で読み出したり書き出したりができるのです。\n",
        "\n",
        "実際機械学習で使われる学習データは億を超えるデータもあり、人の手作業で扱えるものではありません。\n",
        "\n",
        "ぜひ早めにファイル操作を覚えて人生快適に生活しましょう。\n",
        "\n",
        "\n",
        "[今日のフォーム](https://forms.gle/YSkrYC1oSPFdu4tZ8)"
      ]
    }
  ]
}