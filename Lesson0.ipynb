{
  "nbformat": 4,
  "nbformat_minor": 0,
  "metadata": {
    "colab": {
      "name": "Lesson0.ipynb",
      "provenance": [],
      "collapsed_sections": [],
      "authorship_tag": "ABX9TyOV1/MWh0Uw9TZw5eOZAn2N",
      "include_colab_link": true
    },
    "kernelspec": {
      "name": "python3",
      "display_name": "Python 3"
    },
    "language_info": {
      "name": "python"
    }
  },
  "cells": [
    {
      "cell_type": "markdown",
      "metadata": {
        "id": "view-in-github",
        "colab_type": "text"
      },
      "source": [
        "<a href=\"https://colab.research.google.com/github/HinataKikuchi/Python_study_group/blob/main/Lesson0.ipynb\" target=\"_parent\"><img src=\"https://colab.research.google.com/assets/colab-badge.svg\" alt=\"Open In Colab\"/></a>"
      ]
    },
    {
      "cell_type": "markdown",
      "metadata": {
        "id": "7ADR7GSg0IBp"
      },
      "source": [
        "# 自己紹介\n",
        "- 名前 : ひなた\n",
        "\n",
        "- 所属 : \n",
        "\n",
        "- 趣味 : ゲーム、読書、食べること\n",
        "\n",
        "- ひとこと : もしスピードが速かったり、わからないことがあったら何でも聞いてください。"
      ]
    },
    {
      "cell_type": "code",
      "metadata": {
        "id": "-KNZQ_Ry1CbO",
        "colab": {
          "base_uri": "https://localhost:8080/"
        },
        "outputId": "0a7081e4-f9e8-4ea6-f02a-e0aecfea17c1"
      },
      "source": [
        "print(\"Hellow World!\")"
      ],
      "execution_count": null,
      "outputs": [
        {
          "output_type": "stream",
          "name": "stdout",
          "text": [
            "Hellow World!\n"
          ]
        }
      ]
    },
    {
      "cell_type": "markdown",
      "metadata": {
        "id": "BYVCmSrf1Twy"
      },
      "source": [
        "# 本日のお品書き\n",
        "\n",
        "1. [Pythonとは](#Pythonとは)\n",
        "2. [かんたんに触ってみる](#かんたんに触ってみる)\n",
        "3. [演習](#演習)\n",
        "4. [実践](#実践)\n",
        "5. まとめ\n",
        "\n",
        "所要時間 : 30~40分目標\n"
      ]
    },
    {
      "cell_type": "markdown",
      "metadata": {
        "id": "jQ2IhuI04FKo"
      },
      "source": [
        "# 1. Pythonとは\n",
        "アプリ開発から数値計算まで何でもできちゃうすぐれもの！\n",
        "\n",
        "Google Colaboratoryで無料で開発可能。\n",
        "\n",
        "必要なのはgoogle アカウントとPCだけ！\n",
        "\n",
        "早速試しにやってみましょう"
      ]
    },
    {
      "cell_type": "code",
      "metadata": {
        "id": "mD1T58P25MuR",
        "colab": {
          "base_uri": "https://localhost:8080/"
        },
        "outputId": "6682511b-f202-4941-e387-71349018a026"
      },
      "source": [
        "# 標準出力(文字を出力する)\n",
        "print(\"こんにちは！\")"
      ],
      "execution_count": null,
      "outputs": [
        {
          "output_type": "stream",
          "name": "stdout",
          "text": [
            "こんにちは！\n"
          ]
        }
      ]
    },
    {
      "cell_type": "code",
      "metadata": {
        "id": "K7hWejs56DcP",
        "colab": {
          "base_uri": "https://localhost:8080/"
        },
        "outputId": "938d9f40-c4d4-4b56-b50a-f51e6da00a78"
      },
      "source": [
        "# 演算\n",
        "1 + 2"
      ],
      "execution_count": null,
      "outputs": [
        {
          "output_type": "execute_result",
          "data": {
            "text/plain": [
              "3"
            ]
          },
          "metadata": {},
          "execution_count": 3
        }
      ]
    },
    {
      "cell_type": "code",
      "metadata": {
        "id": "bJegrN_m6HgD",
        "colab": {
          "base_uri": "https://localhost:8080/"
        },
        "outputId": "9e33f364-ac8c-4ac7-c45a-4a5ba87932d9"
      },
      "source": [
        "# 演算を複数列でやってみる\n",
        "1 + 3 + 5\n",
        "1 + 2"
      ],
      "execution_count": null,
      "outputs": [
        {
          "output_type": "execute_result",
          "data": {
            "text/plain": [
              "3"
            ]
          },
          "metadata": {},
          "execution_count": 4
        }
      ]
    },
    {
      "cell_type": "code",
      "metadata": {
        "id": "s_uFgg_C6Nhk",
        "colab": {
          "base_uri": "https://localhost:8080/"
        },
        "outputId": "299317c1-a973-437a-97f4-30cf7dd8b0e7"
      },
      "source": [
        "# 全部出力したいとき\n",
        "print(1 + 3 + 5)\n",
        "print(1 + 2)"
      ],
      "execution_count": null,
      "outputs": [
        {
          "output_type": "stream",
          "name": "stdout",
          "text": [
            "9\n",
            "3\n"
          ]
        }
      ]
    },
    {
      "cell_type": "markdown",
      "metadata": {
        "id": "Ue2XFPBs8uVa"
      },
      "source": [
        "# 2. かんたんに触ってみる\n",
        "\n",
        "Google Driveの中身を見て、触ることもできる！"
      ]
    },
    {
      "cell_type": "code",
      "metadata": {
        "id": "onCxrumF84rs",
        "colab": {
          "base_uri": "https://localhost:8080/"
        },
        "outputId": "741f759d-d037-4e09-8495-e72b3348711e"
      },
      "source": [
        "# おまじないチックだけど、自分のドライブの中身を見る方法\n",
        "from google.colab import drive\n",
        "drive.mount('/content/drive')"
      ],
      "execution_count": 2,
      "outputs": [
        {
          "output_type": "stream",
          "name": "stdout",
          "text": [
            "Drive already mounted at /content/drive; to attempt to forcibly remount, call drive.mount(\"/content/drive\", force_remount=True).\n"
          ]
        }
      ]
    },
    {
      "cell_type": "code",
      "metadata": {
        "id": "BClC62ZK91nS",
        "colab": {
          "base_uri": "https://localhost:8080/"
        },
        "outputId": "4ec18549-5bc7-4b99-a1c4-4b6bd079a64a"
      },
      "source": [
        "# 実際に見てみる。\n",
        "%ls drive/MyDrive/"
      ],
      "execution_count": 3,
      "outputs": [
        {
          "output_type": "stream",
          "name": "stdout",
          "text": [
            "\u001b[0m\u001b[01;34m'2年後期　Acdemic Writing'\u001b[0m/   report1-debug.vcxproj\n",
            " \u001b[01;34mcircle\u001b[0m/                      report1-debug.vcxproj.filters\n",
            " c_lang3.pptx                 report2.doc\n",
            " ListDelete.png               \u001b[01;34msearch\u001b[0m/\n",
            " ListDestroy.png              Sort.png\n",
            " ListInsert.png               tmp.csv\n",
            " pr1.c                        tmp.gsheet\n",
            " pr2.c                        実験テンプレート.docx\n",
            " pr3.c                        \u001b[01;34m情報工学実験I\u001b[0m/\n",
            " report1-debug.c              \u001b[01;34mプログラミング演習2\u001b[0m/\n",
            " report1-debug.exe            無題のフォーム.gform\n",
            " report1-debug.obj            無題のプレゼンテーション.gslides\n",
            " report1-debug.sln\n"
          ]
        }
      ]
    },
    {
      "cell_type": "markdown",
      "metadata": {
        "id": "NRgoL-Uj4hti"
      },
      "source": [
        "~実は左側のフォルダアイコンから見ることもできます~\n",
        "\n",
        "~ただしこの場合もdrive のマウント(=さっきの呪文)は必須です。セキュリティのため~"
      ]
    },
    {
      "cell_type": "markdown",
      "metadata": {
        "id": "pXhKje969-qC"
      },
      "source": [
        "## シェルコマンドについて\n",
        "\n",
        "Q. シェルコマンドとは？\n",
        "\n",
        "A. コマンドラインと呼ばれる場所に文字として入力するだけでPCに命令する方法！\n",
        "\n",
        "Colaboratoryは%を付けて入力することでセルをコマンドラインにすることができる！"
      ]
    },
    {
      "cell_type": "code",
      "metadata": {
        "id": "0U3MpoGxFG2r",
        "colab": {
          "base_uri": "https://localhost:8080/"
        },
        "outputId": "810923ac-2c33-4511-b837-37d1cf9c5b57"
      },
      "source": [
        "# 今いる場所に何があるか表示する(list segmentsの略)\n",
        "%ls"
      ],
      "execution_count": null,
      "outputs": [
        {
          "output_type": "stream",
          "name": "stdout",
          "text": [
            "\u001b[0m\u001b[01;34mdrive\u001b[0m/  \u001b[01;34msample_data\u001b[0m/\n"
          ]
        }
      ]
    },
    {
      "cell_type": "code",
      "metadata": {
        "id": "_1W0jX3x95yz",
        "colab": {
          "base_uri": "https://localhost:8080/"
        },
        "outputId": "dbae9ade-1605-4819-a30f-0fc35209d2fb"
      },
      "source": [
        "# ディレクトリを移動する\n",
        "%cd drive/MyDrive"
      ],
      "execution_count": null,
      "outputs": [
        {
          "output_type": "stream",
          "name": "stdout",
          "text": [
            "/content/drive/MyDrive\n"
          ]
        }
      ]
    },
    {
      "cell_type": "code",
      "metadata": {
        "id": "XxPg7_PZFK4B",
        "colab": {
          "base_uri": "https://localhost:8080/",
          "height": 35
        },
        "outputId": "1dd6f55b-ce1d-40c1-ee71-28806e2d8933"
      },
      "source": [
        "# 今いる場所がどこか表示する\n",
        "%pwd"
      ],
      "execution_count": null,
      "outputs": [
        {
          "output_type": "execute_result",
          "data": {
            "application/vnd.google.colaboratory.intrinsic+json": {
              "type": "string"
            },
            "text/plain": [
              "'/content/drive/MyDrive'"
            ]
          },
          "metadata": {},
          "execution_count": 10
        }
      ]
    },
    {
      "cell_type": "code",
      "metadata": {
        "id": "hGm6pnvWGrFY"
      },
      "source": [
        "# 試しになにがあるか表示してみよう！\n"
      ],
      "execution_count": null,
      "outputs": []
    },
    {
      "cell_type": "markdown",
      "metadata": {
        "id": "7wN6PDPpHrTG"
      },
      "source": [
        "# 3. 演習\n",
        "ここまでのおさらいをします！\n",
        "\n",
        "やった内容を見ながら出構いません、以下の問いの下にコードを書いてください！"
      ]
    },
    {
      "cell_type": "code",
      "metadata": {
        "id": "A_xS47pFHzmx"
      },
      "source": [
        "# Q. こんにちはと出力してください\n",
        "# A. 以下に記述\n"
      ],
      "execution_count": null,
      "outputs": []
    },
    {
      "cell_type": "code",
      "metadata": {
        "id": "R9m5s98aH3Ox"
      },
      "source": [
        "# Q. MyDriveディレクトリの中を見せてください\n",
        "# A. 以下に記述"
      ],
      "execution_count": null,
      "outputs": []
    },
    {
      "cell_type": "code",
      "metadata": {
        "id": "b4srfn28wpww"
      },
      "source": [
        "# Q. MyDriveディレクトリ以下どこでも構いません、移動してみてください。\n",
        "# A. 以下に記述"
      ],
      "execution_count": null,
      "outputs": []
    },
    {
      "cell_type": "markdown",
      "metadata": {
        "id": "IgoX3EOa4_sh"
      },
      "source": [
        "# 4. 実践\n",
        "\n",
        "## 4.1 txtファイルの読み出し\n",
        "\n",
        "試しに同じ階層のファイルを読むというのを試します。\n",
        "\n",
        "まずお渡ししたフォルダの中で```target.txt```というのを探してみてください"
      ]
    },
    {
      "cell_type": "code",
      "metadata": {
        "id": "YLzodLq46KHf",
        "colab": {
          "base_uri": "https://localhost:8080/"
        },
        "outputId": "d6facd9f-b683-49b6-c552-e03fba27aa2e"
      },
      "source": [
        "%ls drive/MyDrive/circle/python_study_group/target.txt"
      ],
      "execution_count": null,
      "outputs": [
        {
          "output_type": "stream",
          "name": "stdout",
          "text": [
            "ls: cannot access 'drive/MyDrive/circle/python_study_group/target.txt': No such file or directory\n"
          ]
        }
      ]
    },
    {
      "cell_type": "markdown",
      "metadata": {
        "id": "HRIahgDZ6spS"
      },
      "source": [
        "見つけることができたら、下のopenの中のカッコにそのパス(drive/から/targe.txtまでの文字列)を書き込んでください"
      ]
    },
    {
      "cell_type": "code",
      "metadata": {
        "id": "Hlo1t_Qa5IG5",
        "colab": {
          "base_uri": "https://localhost:8080/",
          "height": 236
        },
        "outputId": "c9f3d5ff-7a6a-4afb-83fd-833261e95570"
      },
      "source": [
        "# with openでファイルを開く(開き終わったらwith処理が閉じてくれる)\n",
        "# 開かれたファイル名をいったんfとする\n",
        "with open('drive/... /target.txt') as f:\n",
        "\n",
        "  # fの中身をreadで読み出す。\n",
        "  # 読んだ内容をtextという名前の変数に保存\n",
        "  text = f.read()\n",
        "\n",
        "# 保存されたものを表示\n",
        "print(text)"
      ],
      "execution_count": null,
      "outputs": [
        {
          "output_type": "error",
          "ename": "FileNotFoundError",
          "evalue": "ignored",
          "traceback": [
            "\u001b[0;31m---------------------------------------------------------------------------\u001b[0m",
            "\u001b[0;31mFileNotFoundError\u001b[0m                         Traceback (most recent call last)",
            "\u001b[0;32m<ipython-input-16-0d491a8b6490>\u001b[0m in \u001b[0;36m<module>\u001b[0;34m()\u001b[0m\n\u001b[1;32m      1\u001b[0m \u001b[0;31m# with openでファイルを開く(開き終わったらwith処理が閉じてくれる)\u001b[0m\u001b[0;34m\u001b[0m\u001b[0;34m\u001b[0m\u001b[0;34m\u001b[0m\u001b[0m\n\u001b[1;32m      2\u001b[0m \u001b[0;31m# 開かれたファイル名をいったんfとする\u001b[0m\u001b[0;34m\u001b[0m\u001b[0;34m\u001b[0m\u001b[0;34m\u001b[0m\u001b[0m\n\u001b[0;32m----> 3\u001b[0;31m \u001b[0;32mwith\u001b[0m \u001b[0mopen\u001b[0m\u001b[0;34m(\u001b[0m\u001b[0;34m'drive/... /target.txt'\u001b[0m\u001b[0;34m)\u001b[0m \u001b[0;32mas\u001b[0m \u001b[0mf\u001b[0m\u001b[0;34m:\u001b[0m\u001b[0;34m\u001b[0m\u001b[0;34m\u001b[0m\u001b[0m\n\u001b[0m\u001b[1;32m      4\u001b[0m \u001b[0;34m\u001b[0m\u001b[0m\n\u001b[1;32m      5\u001b[0m   \u001b[0;31m# fの中身をreadで読み出す。\u001b[0m\u001b[0;34m\u001b[0m\u001b[0;34m\u001b[0m\u001b[0;34m\u001b[0m\u001b[0m\n",
            "\u001b[0;31mFileNotFoundError\u001b[0m: [Errno 2] No such file or directory: 'drive/... /target.txt'"
          ]
        }
      ]
    },
    {
      "cell_type": "markdown",
      "metadata": {
        "id": "RxFgyJic67Hr"
      },
      "source": [
        "プログラムの中からもファイルの中身が確認できることが分かりました\n",
        "\n",
        "## 4.2 wordファイルの読み出し\n",
        "\n",
        "試しにwordファイルを開いてみたいと思います\n",
        "\n",
        "wordファイルの拡張子(.以降の文字)は```.docx```です"
      ]
    },
    {
      "cell_type": "code",
      "metadata": {
        "id": "3ylHZHwm6-Kx"
      },
      "source": [
        "# 自分のディレクトリでdocxファイルを探してみてください\n"
      ],
      "execution_count": null,
      "outputs": []
    },
    {
      "cell_type": "code",
      "metadata": {
        "id": "T9yOXw6f8D38"
      },
      "source": [
        "with open(docx file path) as f:\n",
        "  text = f.read()"
      ],
      "execution_count": null,
      "outputs": []
    },
    {
      "cell_type": "markdown",
      "metadata": {
        "id": "7x0q44Q28ncQ"
      },
      "source": [
        "このコードだと怒られたと思います。\n",
        "\n",
        "\n",
        "実はファイルによって目に見えない中身が書き換わっていることがあり、単に読み出す場合にはそれ専用のモジュールが必要になります。\n",
        "\n",
        "今回はwordファイルなので試しにdocx2txtというモジュールをつかってファイルの書き出しを行いましょう。"
      ]
    },
    {
      "cell_type": "code",
      "metadata": {
        "id": "uNhcKLNc9D9x",
        "colab": {
          "base_uri": "https://localhost:8080/"
        },
        "outputId": "1d3b88c6-dd50-4cb8-beea-c96543d91fe1"
      },
      "source": [
        "# まずはファイルを読み出すためのモジュールをインストールします。\n",
        "# 呪文のようですが、pipはモジュールをインストールするための道具だと思ってください。\n",
        "%pip install docx2txt"
      ],
      "execution_count": 4,
      "outputs": [
        {
          "output_type": "stream",
          "name": "stdout",
          "text": [
            "Requirement already satisfied: docx2txt in /usr/local/lib/python3.7/dist-packages (0.8)\n"
          ]
        }
      ]
    },
    {
      "cell_type": "code",
      "metadata": {
        "id": "oFrBMPeG8m1p"
      },
      "source": [
        "# インストールしたモジュールを使う宣言をします\n",
        "# importはこの先も使うので覚えておくと便利です。\n",
        "import docx2txt"
      ],
      "execution_count": 5,
      "outputs": []
    },
    {
      "cell_type": "markdown",
      "metadata": {
        "id": "_S17_6DMZA9d"
      },
      "source": [
        "これでモジュールを使う準備が整いました。\n",
        "\n",
        "docx2txtで読み出す場合はprocessという関数を使って指定されたパスから文字列を抽出します\n",
        "\n",
        ".はモジュールの中の何の関数を使うのかを指定する意味があります"
      ]
    },
    {
      "cell_type": "code",
      "metadata": {
        "colab": {
          "base_uri": "https://localhost:8080/"
        },
        "id": "3-8KXYbsZyac",
        "outputId": "3cbc769d-1d87-4b84-f00b-bfa1640db9b6"
      },
      "source": [
        ""
      ],
      "execution_count": null,
      "outputs": [
        {
          "output_type": "stream",
          "name": "stdout",
          "text": [
            "ls: cannot access 'drive/MyDrive': No such file or directory\n"
          ]
        }
      ]
    },
    {
      "cell_type": "code",
      "metadata": {
        "id": "qGskHMn09JJb",
        "colab": {
          "base_uri": "https://localhost:8080/"
        },
        "outputId": "5110c18c-ac96-4afb-c894-dc0df52dc6f7"
      },
      "source": [
        "text = docx2txt.process('drive/MyDrive/circle/python_study_group/target.docx')\n",
        "print(text)"
      ],
      "execution_count": 6,
      "outputs": [
        {
          "output_type": "stream",
          "name": "stdout",
          "text": [
            "新商品企画書\n",
            "\n",
            "部署名\n",
            "\n",
            "てすと\n",
            "\n",
            "氏名\n",
            "\n",
            "ひなた\n",
            "\n",
            "作成日\n",
            "\n",
            "2021年　10月　25日\n",
            "\n",
            "\n",
            "\n",
            "商品説明\n",
            "\n",
            "商品名\n",
            "\n",
            "\n",
            "\n",
            "販売予定価格\n",
            "\n",
            "\n",
            "\n",
            "コンセプト\n",
            "\n",
            "\n",
            "\n",
            "詳細・仕様\n",
            "\n",
            "\n",
            "\n",
            "差別化ポイント\n",
            "\n",
            "\n",
            "\n",
            "提案の背景\n",
            "\n",
            "\n",
            "\n",
            "\n",
            "\n",
            "商品開発\n",
            "\n",
            "予算\n",
            "\n",
            "\n",
            "\n",
            "期間\n",
            "\n",
            "\n",
            "\n",
            "販売開始日\n",
            "\n",
            "\n",
            "\n",
            "\n",
            "\n",
            "販売戦略\n",
            "\n",
            "ターゲット\n",
            "\n",
            "\n",
            "\n",
            "販売ルート\n",
            "\n",
            "\n",
            "\n",
            "販促活動\n",
            "\n",
            "\n",
            "\n",
            "広告・パブリシティ\n",
            "\n",
            "\n",
            "\n",
            "\n",
            "\n",
            "添付資料・その他\n"
          ]
        }
      ]
    },
    {
      "cell_type": "markdown",
      "metadata": {
        "id": "PEZgIqLrZiRH"
      },
      "source": [
        "これでwordからの読み出しが行えるようになりました\n",
        "\n",
        "## 4.3 読みだした情報をデータフレームに格納する\n",
        "\n",
        "ここからデータフレームと呼ばれるプログラム上の変数の中に情報を格納してみたいと思います。\n",
        "\n",
        "データフレームはpandasと呼ばれるモジュールの機能の一つで、機械学習や一般のデータ"
      ]
    },
    {
      "cell_type": "code",
      "metadata": {
        "id": "RNHBOZU4ZhmI"
      },
      "source": [
        "# pandasをpip でインストールしてみましょう！\n"
      ],
      "execution_count": null,
      "outputs": []
    },
    {
      "cell_type": "code",
      "metadata": {
        "id": "iDaXigTlcJ0C"
      },
      "source": [
        "# pandasをimportしてみましょう！\n"
      ],
      "execution_count": null,
      "outputs": []
    },
    {
      "cell_type": "markdown",
      "metadata": {
        "id": "Pwd15W7ocYi7"
      },
      "source": [
        "pandasモジュールを使う準備が整いました。\n",
        "\n",
        "さて、wordから抽出した文字列データですが成形が必要です。\n",
        "\n",
        "どこからどこまでが人間が読みたいデータなのかは人間が判断する必要があります。\n",
        "\n",
        "その作業の後、データを格納していきます。"
      ]
    },
    {
      "cell_type": "code",
      "metadata": {
        "id": "3YMHgLfOcqpA"
      },
      "source": [
        "# 先ほど読みだしたwordデータを出力(表示)してみましょう！\n"
      ],
      "execution_count": null,
      "outputs": []
    },
    {
      "cell_type": "markdown",
      "metadata": {
        "id": "6r875kAPcyfN"
      },
      "source": [
        "部署名、作成者名、変更日に入力があります。\n",
        "\n",
        "この内容のみをpandasのデータフレームに格納しましょう。\n",
        "\n",
        "まずはテキストをsplit関数と呼ばれる任意の文字で文章を切り出す関数を用いて、改行ごとに切りだしてみます。\n",
        "\n",
        "一緒にやってみましょう"
      ]
    },
    {
      "cell_type": "code",
      "metadata": {
        "colab": {
          "base_uri": "https://localhost:8080/"
        },
        "id": "2VpjtgoicXuA",
        "outputId": "5ac4dcdb-c93b-4367-dd5c-529ad7c4b0d5"
      },
      "source": [
        "text.split('\\n')"
      ],
      "execution_count": 7,
      "outputs": [
        {
          "output_type": "execute_result",
          "data": {
            "text/plain": [
              "['新商品企画書',\n",
              " '',\n",
              " '部署名',\n",
              " '',\n",
              " 'てすと',\n",
              " '',\n",
              " '氏名',\n",
              " '',\n",
              " 'ひなた',\n",
              " '',\n",
              " '作成日',\n",
              " '',\n",
              " '2021年\\u300010月\\u300025日',\n",
              " '',\n",
              " '',\n",
              " '',\n",
              " '商品説明',\n",
              " '',\n",
              " '商品名',\n",
              " '',\n",
              " '',\n",
              " '',\n",
              " '販売予定価格',\n",
              " '',\n",
              " '',\n",
              " '',\n",
              " 'コンセプト',\n",
              " '',\n",
              " '',\n",
              " '',\n",
              " '詳細・仕様',\n",
              " '',\n",
              " '',\n",
              " '',\n",
              " '差別化ポイント',\n",
              " '',\n",
              " '',\n",
              " '',\n",
              " '提案の背景',\n",
              " '',\n",
              " '',\n",
              " '',\n",
              " '',\n",
              " '',\n",
              " '商品開発',\n",
              " '',\n",
              " '予算',\n",
              " '',\n",
              " '',\n",
              " '',\n",
              " '期間',\n",
              " '',\n",
              " '',\n",
              " '',\n",
              " '販売開始日',\n",
              " '',\n",
              " '',\n",
              " '',\n",
              " '',\n",
              " '',\n",
              " '販売戦略',\n",
              " '',\n",
              " 'ターゲット',\n",
              " '',\n",
              " '',\n",
              " '',\n",
              " '販売ルート',\n",
              " '',\n",
              " '',\n",
              " '',\n",
              " '販促活動',\n",
              " '',\n",
              " '',\n",
              " '',\n",
              " '広告・パブリシティ',\n",
              " '',\n",
              " '',\n",
              " '',\n",
              " '',\n",
              " '',\n",
              " '添付資料・その他']"
            ]
          },
          "metadata": {},
          "execution_count": 7
        }
      ]
    },
    {
      "cell_type": "markdown",
      "metadata": {
        "id": "ithFDPDbdQun"
      },
      "source": [
        "```\n",
        "'部署名',\n",
        " '',\n",
        " 'てすと',\n",
        " '',\n",
        " '氏名',\n",
        " '',\n",
        " 'ひなた',\n",
        " '',\n",
        " '作成日',\n",
        " '',\n",
        " '2021年\\u300010月\\u300025日',\n",
        " ```\n",
        "\n",
        " が今回本当にほしい情報とします。\n",
        "\n",
        "これを\n",
        "\n",
        "|部署名|氏名|作成日|\n",
        "|:---:|:---:|:---:|\n",
        "|てすと|ひなた|2021年\\u300010月\\u300025日|\n",
        "\n",
        "とするのが今回の最終目標です。\n"
      ]
    }
  ]
}